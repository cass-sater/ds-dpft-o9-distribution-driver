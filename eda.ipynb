{
 "cells": [
  {
   "cell_type": "code",
   "execution_count": 2,
   "id": "283a7939",
   "metadata": {},
   "outputs": [],
   "source": [
    "\n",
    "import pandas\n",
    "import numpy as np\n",
    "# Import libraries\n",
    "import pandas as pd\n",
    "from snowflake.connector import connect\n",
    "import os\n",
    "import plotly.express as px\n",
    "import plotly.graph_objects as go\n",
    "from plotly.subplots import make_subplots\n",
    "\n",
    "import pendulum\n",
    "\n",
    "from datetime import date, datetime\n",
    "\n",
    "def get_data(query_name):\n",
    "    # Establish connection\n",
    "    conn = connect(\n",
    "        account=\"cbrands.us-east-1\",\n",
    "        user=\"CASSIDY.SATER@CBRANDS.COM\",\n",
    "        authenticator=\"externalbrowser\",\n",
    "        role=\"DS_TEST_EDITOR_ROLE\",\n",
    "        warehouse=\"DS_TEST_DEFAULT_WH\",\n",
    "        database=\"DS_PROD_DB\",\n",
    "        schema=\"DP\"\n",
    "    )\n",
    "\n",
    "    # Get the query\n",
    "    query = query_name\n",
    "\n",
    "    # Load data\n",
    "    df = pd.read_sql_query(query, conn)\n",
    "    df['DATE_WK_DT'] = pd.to_datetime(df['DATE_WK_DT'])\n",
    "    return df\n",
    "\n"
   ]
  },
  {
   "cell_type": "code",
   "execution_count": 33,
   "id": "1de8afea",
   "metadata": {},
   "outputs": [
    {
     "name": "stderr",
     "output_type": "stream",
     "text": [
      "Warning: Dependency 'keyring' is not installed, cannot cache id token. You might experience multiple authentication pop ups while using ExternalBrowser/OAuth/MFA Authenticator. To avoid this please install keyring module using the following command:\n",
      " pip install snowflake-connector-python[secure-local-storage]\n"
     ]
    },
    {
     "name": "stdout",
     "output_type": "stream",
     "text": [
      "Initiating login request with your identity provider. A browser window should have opened for you to complete the login. If you can't see it, check existing browser windows, or your OS settings. Press CTRL+C to abort and try again...\n",
      "Going to open: https://login.microsoftonline.com/897c5146-ab0e-40e5-92cd-154908142efc/saml2?SAMLRequest=lZJRb9owFIX%2FSuQ9J3FCQokFVAFKx9a1EaTd2JubXMDUsTPbKfTfzwkgdQ%2BttLfIOcff8T13eH2suPMKSjMpRijwMHJAFLJkYjtCj%2FncHSBHGypKyqWAEXoDja7HQ00rXpO0MTuxhD8NaOPYi4Qm7Y8RapQgkmqmiaAVaGIKskp%2F3JHQw4RqDcpYHDpbSs0sa2dMTXz%2FcDh4h54n1dYPMcY%2BTnyraiVf0DtE%2FTmjVtLIQvKL5Wjf9AEi8HHUIqzCErKzccLEaQSfUZ5PIk2%2B5nnmZg%2BrHDnp5XVTKXRTgVqBemUFPC7vTgG0TTCdLNP72cprtAtUGzfwtJCHDacvUMiqboy91bNf%2FgZKn8sts7NazEaofmHl6iG8%2FTm9Xc%2FXx32vf9Nf739lOP2%2B7%2FfrnE%2Bu4Abv8m%2FlU8a3gwI5T5dmw7bZhdYNLETbp7FHOIxdHLthmOOERJj0rChOfiNnZvtkgprOeQnd5fAqViip5cZIwZmALuUguSriIOq79BmDG2GI3SQsSjeIowQPgiiETeG3rYXotDmkC6LG%2FzuPof%2FefV7Ce9vLYpZJzoo3Zy5VRc3HtQVe0J2w0t10UgIVZTwtSwVa2%2Fo4l4epAmrsrhvVAPLHJ%2Bq%2F2z7%2BCw%3D%3D&RelayState=ver%3A1-hint%3A24148586807920702-ETMsDgAAAZb3Xaa7ABRBRVMvQ0JDL1BLQ1M1UGFkZGluZwEAABAAENJMJbMi9Lk%2BUduffdPK8lEAAACQ8bXzV0uVsdUPOjCMo9i7u%2BJXiXNOY7iILkxJNX1KqXIUeSPs7F8A%2FS7tj3sh%2Bp3hgf67nikKG%2F8Fp4Kq%2BIWn39C7wpgq5WCXKFvwjw%2BhtVlzHCqvlU75vIFEvujBiwvuYViyGd0PqzgKC0cIiFgqP0DDu8vVujvU5n0xnv9uw%2FRBO92qIyF9VCiKDycWg%2FJPABRF9LMetgN6E%2BLS8UGwWXZ8APX6SQ%3D%3D to authenticate...\n"
     ]
    },
    {
     "name": "stderr",
     "output_type": "stream",
     "text": [
      "Warning: Dependency 'keyring' is not installed, cannot cache id token. You might experience multiple authentication pop ups while using ExternalBrowser/OAuth/MFA Authenticator. To avoid this please install keyring module using the following command:\n",
      " pip install snowflake-connector-python[secure-local-storage]\n"
     ]
    }
   ],
   "source": [
    "con = snowflake.connector.connect(\n",
    "    user         ='cassidy.sater@cbrands.com',\n",
    "    account      ='cbrands.us-east-1',\n",
    "    role         ='DS_TEST_SCIENTIST_ROLE',\n",
    "    authenticator='externalbrowser',\n",
    "    warehouse    ='DS_TEST_DEFAULT_WH',\n",
    "    database     ='DS_PROD_DB',\n",
    "    schema       ='DP',\n",
    ")\n",
    "cur = con.cursor()"
   ]
  },
  {
   "cell_type": "code",
   "execution_count": 34,
   "id": "b2ebe7d7",
   "metadata": {},
   "outputs": [
    {
     "data": {
      "text/plain": [
       "datetime.date(2025, 5, 22)"
      ]
     },
     "execution_count": 34,
     "metadata": {},
     "output_type": "execute_result"
    }
   ],
   "source": [
    "date.today()"
   ]
  },
  {
   "cell_type": "code",
   "execution_count": 30,
   "id": "3a0dc78d",
   "metadata": {},
   "outputs": [
    {
     "name": "stdout",
     "output_type": "stream",
     "text": [
      "Requirement already satisfied: snowflake-connector-python[secure-local-storage] in c:\\users\\csater\\appdata\\local\\programs\\python\\python311\\lib\\site-packages (3.15.0)\n",
      "Requirement already satisfied: asn1crypto<2.0.0,>0.24.0 in c:\\users\\csater\\appdata\\local\\programs\\python\\python311\\lib\\site-packages (from snowflake-connector-python[secure-local-storage]) (1.5.1)\n",
      "Requirement already satisfied: boto3>=1.24 in c:\\users\\csater\\appdata\\local\\programs\\python\\python311\\lib\\site-packages (from snowflake-connector-python[secure-local-storage]) (1.38.20)\n",
      "Requirement already satisfied: botocore>=1.24 in c:\\users\\csater\\appdata\\local\\programs\\python\\python311\\lib\\site-packages (from snowflake-connector-python[secure-local-storage]) (1.38.20)\n",
      "Requirement already satisfied: cffi<2.0.0,>=1.9 in c:\\users\\csater\\appdata\\local\\programs\\python\\python311\\lib\\site-packages (from snowflake-connector-python[secure-local-storage]) (1.17.1)\n",
      "Requirement already satisfied: cryptography>=3.1.0 in c:\\users\\csater\\appdata\\local\\programs\\python\\python311\\lib\\site-packages (from snowflake-connector-python[secure-local-storage]) (45.0.2)\n",
      "Requirement already satisfied: pyOpenSSL<26.0.0,>=22.0.0 in c:\\users\\csater\\appdata\\local\\programs\\python\\python311\\lib\\site-packages (from snowflake-connector-python[secure-local-storage]) (25.1.0)\n",
      "Requirement already satisfied: pyjwt<3.0.0 in c:\\users\\csater\\appdata\\local\\programs\\python\\python311\\lib\\site-packages (from snowflake-connector-python[secure-local-storage]) (2.10.1)\n",
      "Requirement already satisfied: pytz in c:\\users\\csater\\appdata\\local\\programs\\python\\python311\\lib\\site-packages (from snowflake-connector-python[secure-local-storage]) (2025.2)\n",
      "Requirement already satisfied: requests<3.0.0 in c:\\users\\csater\\appdata\\local\\programs\\python\\python311\\lib\\site-packages (from snowflake-connector-python[secure-local-storage]) (2.32.3)\n",
      "Requirement already satisfied: packaging in c:\\users\\csater\\appdata\\roaming\\python\\python311\\site-packages (from snowflake-connector-python[secure-local-storage]) (25.0)\n",
      "Requirement already satisfied: charset_normalizer<4,>=2 in c:\\users\\csater\\appdata\\local\\programs\\python\\python311\\lib\\site-packages (from snowflake-connector-python[secure-local-storage]) (3.4.2)\n",
      "Requirement already satisfied: idna<4,>=2.5 in c:\\users\\csater\\appdata\\local\\programs\\python\\python311\\lib\\site-packages (from snowflake-connector-python[secure-local-storage]) (3.10)\n",
      "Requirement already satisfied: certifi>=2017.4.17 in c:\\users\\csater\\appdata\\local\\programs\\python\\python311\\lib\\site-packages (from snowflake-connector-python[secure-local-storage]) (2025.4.26)\n",
      "Requirement already satisfied: typing_extensions<5,>=4.3 in c:\\users\\csater\\appdata\\roaming\\python\\python311\\site-packages (from snowflake-connector-python[secure-local-storage]) (4.13.2)\n",
      "Requirement already satisfied: filelock<4,>=3.5 in c:\\users\\csater\\appdata\\local\\programs\\python\\python311\\lib\\site-packages (from snowflake-connector-python[secure-local-storage]) (3.18.0)\n",
      "Requirement already satisfied: sortedcontainers>=2.4.0 in c:\\users\\csater\\appdata\\local\\programs\\python\\python311\\lib\\site-packages (from snowflake-connector-python[secure-local-storage]) (2.4.0)\n",
      "Requirement already satisfied: platformdirs<5.0.0,>=2.6.0 in c:\\users\\csater\\appdata\\roaming\\python\\python311\\site-packages (from snowflake-connector-python[secure-local-storage]) (4.3.8)\n",
      "Requirement already satisfied: tomlkit in c:\\users\\csater\\appdata\\local\\programs\\python\\python311\\lib\\site-packages (from snowflake-connector-python[secure-local-storage]) (0.13.2)\n",
      "Collecting keyring<26.0.0,>=23.1.0 (from snowflake-connector-python[secure-local-storage])\n",
      "  Downloading keyring-25.6.0-py3-none-any.whl.metadata (20 kB)\n",
      "Requirement already satisfied: pycparser in c:\\users\\csater\\appdata\\local\\programs\\python\\python311\\lib\\site-packages (from cffi<2.0.0,>=1.9->snowflake-connector-python[secure-local-storage]) (2.22)\n",
      "Collecting pywin32-ctypes>=0.2.0 (from keyring<26.0.0,>=23.1.0->snowflake-connector-python[secure-local-storage])\n",
      "  Downloading pywin32_ctypes-0.2.3-py3-none-any.whl.metadata (3.9 kB)\n",
      "Collecting importlib_metadata>=4.11.4 (from keyring<26.0.0,>=23.1.0->snowflake-connector-python[secure-local-storage])\n",
      "  Downloading importlib_metadata-8.7.0-py3-none-any.whl.metadata (4.8 kB)\n",
      "Collecting jaraco.classes (from keyring<26.0.0,>=23.1.0->snowflake-connector-python[secure-local-storage])\n",
      "  Downloading jaraco.classes-3.4.0-py3-none-any.whl.metadata (2.6 kB)\n",
      "Collecting jaraco.functools (from keyring<26.0.0,>=23.1.0->snowflake-connector-python[secure-local-storage])\n",
      "  Downloading jaraco.functools-4.1.0-py3-none-any.whl.metadata (2.9 kB)\n",
      "Collecting jaraco.context (from keyring<26.0.0,>=23.1.0->snowflake-connector-python[secure-local-storage])\n",
      "  Downloading jaraco.context-6.0.1-py3-none-any.whl.metadata (4.1 kB)\n",
      "Requirement already satisfied: urllib3<3,>=1.21.1 in c:\\users\\csater\\appdata\\local\\programs\\python\\python311\\lib\\site-packages (from requests<3.0.0->snowflake-connector-python[secure-local-storage]) (2.4.0)\n",
      "Requirement already satisfied: jmespath<2.0.0,>=0.7.1 in c:\\users\\csater\\appdata\\local\\programs\\python\\python311\\lib\\site-packages (from boto3>=1.24->snowflake-connector-python[secure-local-storage]) (1.0.1)\n",
      "Requirement already satisfied: s3transfer<0.13.0,>=0.12.0 in c:\\users\\csater\\appdata\\local\\programs\\python\\python311\\lib\\site-packages (from boto3>=1.24->snowflake-connector-python[secure-local-storage]) (0.12.0)\n",
      "Requirement already satisfied: python-dateutil<3.0.0,>=2.1 in c:\\users\\csater\\appdata\\roaming\\python\\python311\\site-packages (from botocore>=1.24->snowflake-connector-python[secure-local-storage]) (2.9.0.post0)\n",
      "Requirement already satisfied: six>=1.5 in c:\\users\\csater\\appdata\\roaming\\python\\python311\\site-packages (from python-dateutil<3.0.0,>=2.1->botocore>=1.24->snowflake-connector-python[secure-local-storage]) (1.17.0)\n",
      "Collecting zipp>=3.20 (from importlib_metadata>=4.11.4->keyring<26.0.0,>=23.1.0->snowflake-connector-python[secure-local-storage])\n",
      "  Downloading zipp-3.21.0-py3-none-any.whl.metadata (3.7 kB)\n",
      "Collecting more-itertools (from jaraco.classes->keyring<26.0.0,>=23.1.0->snowflake-connector-python[secure-local-storage])\n",
      "  Downloading more_itertools-10.7.0-py3-none-any.whl.metadata (37 kB)\n",
      "Collecting backports.tarfile (from jaraco.context->keyring<26.0.0,>=23.1.0->snowflake-connector-python[secure-local-storage])\n",
      "  Downloading backports.tarfile-1.2.0-py3-none-any.whl.metadata (2.0 kB)\n",
      "Downloading keyring-25.6.0-py3-none-any.whl (39 kB)\n",
      "Downloading importlib_metadata-8.7.0-py3-none-any.whl (27 kB)\n",
      "Downloading pywin32_ctypes-0.2.3-py3-none-any.whl (30 kB)\n",
      "Downloading zipp-3.21.0-py3-none-any.whl (9.6 kB)\n",
      "Downloading jaraco.classes-3.4.0-py3-none-any.whl (6.8 kB)\n",
      "Downloading jaraco.context-6.0.1-py3-none-any.whl (6.8 kB)\n",
      "Downloading backports.tarfile-1.2.0-py3-none-any.whl (30 kB)\n",
      "Downloading jaraco.functools-4.1.0-py3-none-any.whl (10 kB)\n",
      "Downloading more_itertools-10.7.0-py3-none-any.whl (65 kB)\n",
      "Installing collected packages: zipp, pywin32-ctypes, more-itertools, backports.tarfile, jaraco.functools, jaraco.context, jaraco.classes, importlib_metadata, keyring\n",
      "\n",
      "   ---- ----------------------------------- 1/9 [pywin32-ctypes]\n",
      "   -------------------------- ------------- 6/9 [jaraco.classes]\n",
      "   ----------------------------------- ---- 8/9 [keyring]\n",
      "   ----------------------------------- ---- 8/9 [keyring]\n",
      "   ---------------------------------------- 9/9 [keyring]\n",
      "\n",
      "Successfully installed backports.tarfile-1.2.0 importlib_metadata-8.7.0 jaraco.classes-3.4.0 jaraco.context-6.0.1 jaraco.functools-4.1.0 keyring-25.6.0 more-itertools-10.7.0 pywin32-ctypes-0.2.3 zipp-3.21.0\n",
      "Note: you may need to restart the kernel to use updated packages.\n"
     ]
    }
   ],
   "source": [
    "pip install snowflake-connector-python[secure-local-storage]"
   ]
  },
  {
   "cell_type": "code",
   "execution_count": 3,
   "id": "0e2691ec",
   "metadata": {},
   "outputs": [
    {
     "name": "stdout",
     "output_type": "stream",
     "text": [
      "Initiating login request with your identity provider. A browser window should have opened for you to complete the login. If you can't see it, check existing browser windows, or your OS settings. Press CTRL+C to abort and try again...\n",
      "Going to open: https://login.microsoftonline.com/897c5146-ab0e-40e5-92cd-154908142efc/saml2?SAMLRequest=lZJRb5swFIX%2FCvKeAUOgBSukoomqsrVJlJB165sDTmoFbOZrQttfP0MSqXtopb0hc46%2F43vu%2BOa1rqwjU8ClSJDnYGQxUciSi32CNvmdHSELNBUlraRgCXpjgG4mY6B11ZC01S9ixf60DLRlLhJA%2Bh8JapUgkgIHImjNgOiCrNPHB%2BI7mFAAprTBobOlBG5YL1o3xHW7rnO6kSPV3vUxxi6OXaPqJd%2FQB0TzNaNRUstCVhfLq3nTJwjPxUGPMApDWJ6Nt1ycRvAVZXsSAbnP86W9XKxzZKWX102lgLZmas3UkRdss3o4BQCTYHq7SueztdOCzSho23NAyG5X0QMrZN202tzqmC93x0q3kntuZpXNEtQceAn36WL0K3uaH%2BN99B6l3RbPvm8WP%2FznfD8Sv7Orx0OUP%2BXTeNQVyPp5adbvm80AWpaJvk9tjrAf2ji0fT%2FHMQmviec7URg8I2tm%2BuSC6sF5CT3kcGpeKAlyp6WouGBDyii%2BLkIvuLLpFjM7wCy0Y78obS8MYhx5gc92hdu35qPT5pAhiJr87zzG7kf3eQnnppdstpQVL96sO6lqqj%2BvzXO84YSX9m6QElZTXqVlqRiAqa%2BqZDdVjGqz61q1DLmTE%2FXfbZ%2F8BQ%3D%3D&RelayState=ver%3A1-hint%3A24148586807920702-ETMsDgAAAZb3bOwWABRBRVMvQ0JDL1BLQ1M1UGFkZGluZwEAABAAEExfQwj6%2FnIt%2BrhYYXR26CsAAACQwKiL7dmM2Cdpxm8jeSpqdwcyqxBoZi3l%2BvfXG%2FNKQ7lc0wKusW66IJmyAYff7Ejr3N0ixvuVp4tNCb%2F3dRyUO%2B%2FsNAnL2xnaC58Z%2BkwmEdU%2FPxTF%2F14qgBJpupYGY3xj%2BOVCGrxoeWunAUhIM%2FvhByXbf%2BfWhgtiFXUqsAkO%2Fl4iGykJAyjbdW9dkdoeiDF5ABT7DdVKclf%2FQf%2BZVNLkeWZDntRM4A%3D%3D to authenticate...\n"
     ]
    },
    {
     "name": "stderr",
     "output_type": "stream",
     "text": [
      "C:\\Users\\CSATER\\AppData\\Local\\Temp\\ipykernel_18148\\1096654339.py:31: UserWarning: pandas only supports SQLAlchemy connectable (engine/connection) or database string URI or sqlite3 DBAPI2 connection. Other DBAPI2 objects are not tested. Please consider using SQLAlchemy.\n",
      "  df = pd.read_sql_query(query, conn)\n"
     ]
    }
   ],
   "source": [
    "# Query data\n",
    "query = \"\"\"\n",
    "SELECT DISTINCT\n",
    "  -- Grain identifiers\n",
    "  d.DATE_WK_DT,\n",
    "  d.DIST_CD,\n",
    "  d.PRODUCT_CD,\n",
    "\n",
    "  -- Depletion Metrics\n",
    "  d.DEPL_EQV_QTY,\n",
    "  d.DEPL_PODS,\n",
    "\n",
    "\n",
    "\n",
    "  -- Store Info\n",
    "  d.STORE_SRC_CD,\n",
    "  a.STORE_CD,\n",
    "\n",
    "  a.PREMISE_TYPE_CD,\n",
    "  a.PREMISE_TYPE_DSC,\n",
    "\n",
    "  -- Product Info\n",
    "  p.DIV_CD,\n",
    "  p.SEG_CD,\n",
    "  p.BEV_SEG_CD,\n",
    "  p.PRODUCT_TYPE_CD,\n",
    "  p.CATEGORY_CD,\n",
    "  p.CATEGORY_DSC,\n",
    "  p.MASTER_SKU_CD,\n",
    "  p.DISCONTINUED_SKU_FLG,\n",
    "  p.ACTIVE_FLG AS PRODUCT_ACTIVE_FLG,\n",
    "\n",
    "FROM DP_DEPLETION_BEER_WK_VW01 d\n",
    "LEFT JOIN DP_ACCOUNT_VW01 a\n",
    "  ON d.STORE_SRC_CD = a.STORE_SRC_CD\n",
    "  AND d.DIST_CD = a.CBBD_DIST_CD\n",
    "LEFT JOIN DP_PRODUCT_VW01 p\n",
    "  ON d.PRODUCT_CD = p.MASTER_SKU_CD\n",
    "WHERE d.DATE_WK_DT >= '2023-01-01'\n",
    "  AND p.MASTER_SKU_CD IN ('80013984' -- modelo 24pk can\n",
    "    , '80013447' -- corona 24pk bt\n",
    "    , '80014026' -- modelo 24pk bt\n",
    "    , '80013460' -- corona 24pk can    \n",
    "    )\n",
    "  AND d.DEPL_EQV_QTY IS NOT NULL\n",
    "  AND p.DIV_CD = 'B'\n",
    "  AND p.SEG_CD = 'B'\n",
    "  AND p.BEV_SEG_CD = '10002'\n",
    "  AND p.PRODUCT_TYPE_CD = 'MS';\n",
    "\n",
    "\"\"\"\n",
    "\n",
    "df = get_data(query)"
   ]
  },
  {
   "cell_type": "code",
   "execution_count": 5,
   "id": "a32071fa",
   "metadata": {},
   "outputs": [
    {
     "data": {
      "application/vnd.microsoft.datawrangler.viewer.v0+json": {
       "columns": [
        {
         "name": "index",
         "rawType": "int64",
         "type": "integer"
        },
        {
         "name": "DATE_WK_DT",
         "rawType": "datetime64[ns]",
         "type": "datetime"
        },
        {
         "name": "DIST_CD",
         "rawType": "object",
         "type": "string"
        },
        {
         "name": "PRODUCT_CD",
         "rawType": "object",
         "type": "string"
        },
        {
         "name": "DEPL_EQV_QTY",
         "rawType": "float64",
         "type": "float"
        },
        {
         "name": "DEPL_PODS",
         "rawType": "int64",
         "type": "integer"
        },
        {
         "name": "STORE_SRC_CD",
         "rawType": "object",
         "type": "string"
        },
        {
         "name": "STORE_CD",
         "rawType": "object",
         "type": "string"
        },
        {
         "name": "PREMISE_TYPE_CD",
         "rawType": "object",
         "type": "string"
        },
        {
         "name": "PREMISE_TYPE_DSC",
         "rawType": "object",
         "type": "string"
        },
        {
         "name": "DIV_CD",
         "rawType": "object",
         "type": "string"
        },
        {
         "name": "SEG_CD",
         "rawType": "object",
         "type": "string"
        },
        {
         "name": "BEV_SEG_CD",
         "rawType": "object",
         "type": "string"
        },
        {
         "name": "PRODUCT_TYPE_CD",
         "rawType": "object",
         "type": "string"
        },
        {
         "name": "CATEGORY_CD",
         "rawType": "object",
         "type": "string"
        },
        {
         "name": "CATEGORY_DSC",
         "rawType": "object",
         "type": "string"
        },
        {
         "name": "MASTER_SKU_CD",
         "rawType": "object",
         "type": "string"
        },
        {
         "name": "DISCONTINUED_SKU_FLG",
         "rawType": "object",
         "type": "string"
        },
        {
         "name": "PRODUCT_ACTIVE_FLG",
         "rawType": "object",
         "type": "string"
        }
       ],
       "ref": "30e597b9-290d-4a66-8f1d-ebc68907ccef",
       "rows": [
        [
         "0",
         "2024-09-09 00:00:00",
         "2224631",
         "80014026",
         "10.0",
         "1",
         "2401997",
         "102401997",
         "F",
         "OFF PREMISE",
         "B",
         "B",
         "10002",
         "MS",
         "116",
         "BEER",
         "80014026",
         "N",
         "Y"
        ],
        [
         "1",
         "2023-12-11 00:00:00",
         "2224631",
         "80013447",
         "18.0",
         "1",
         "2401997",
         "102401997",
         "F",
         "OFF PREMISE",
         "B",
         "B",
         "10002",
         "MS",
         "116",
         "BEER",
         "80013447",
         "N",
         "Y"
        ],
        [
         "2",
         "2024-07-15 00:00:00",
         "2225543",
         "80013984",
         "10.0",
         "1",
         "2407221",
         "102407221",
         "F",
         "OFF PREMISE",
         "B",
         "B",
         "10002",
         "MS",
         "116",
         "BEER",
         "80013984",
         "N",
         "Y"
        ],
        [
         "3",
         "2025-04-28 00:00:00",
         "2225543",
         "80013984",
         "10.0",
         "1",
         "2407221",
         "102407221",
         "F",
         "OFF PREMISE",
         "B",
         "B",
         "10002",
         "MS",
         "116",
         "BEER",
         "80013984",
         "N",
         "Y"
        ],
        [
         "4",
         "2025-01-27 00:00:00",
         "2225543",
         "80013984",
         "10.0",
         "1",
         "2407221",
         "102407221",
         "F",
         "OFF PREMISE",
         "B",
         "B",
         "10002",
         "MS",
         "116",
         "BEER",
         "80013984",
         "N",
         "Y"
        ]
       ],
       "shape": {
        "columns": 18,
        "rows": 5
       }
      },
      "text/html": [
       "<div>\n",
       "<style scoped>\n",
       "    .dataframe tbody tr th:only-of-type {\n",
       "        vertical-align: middle;\n",
       "    }\n",
       "\n",
       "    .dataframe tbody tr th {\n",
       "        vertical-align: top;\n",
       "    }\n",
       "\n",
       "    .dataframe thead th {\n",
       "        text-align: right;\n",
       "    }\n",
       "</style>\n",
       "<table border=\"1\" class=\"dataframe\">\n",
       "  <thead>\n",
       "    <tr style=\"text-align: right;\">\n",
       "      <th></th>\n",
       "      <th>DATE_WK_DT</th>\n",
       "      <th>DIST_CD</th>\n",
       "      <th>PRODUCT_CD</th>\n",
       "      <th>DEPL_EQV_QTY</th>\n",
       "      <th>DEPL_PODS</th>\n",
       "      <th>STORE_SRC_CD</th>\n",
       "      <th>STORE_CD</th>\n",
       "      <th>PREMISE_TYPE_CD</th>\n",
       "      <th>PREMISE_TYPE_DSC</th>\n",
       "      <th>DIV_CD</th>\n",
       "      <th>SEG_CD</th>\n",
       "      <th>BEV_SEG_CD</th>\n",
       "      <th>PRODUCT_TYPE_CD</th>\n",
       "      <th>CATEGORY_CD</th>\n",
       "      <th>CATEGORY_DSC</th>\n",
       "      <th>MASTER_SKU_CD</th>\n",
       "      <th>DISCONTINUED_SKU_FLG</th>\n",
       "      <th>PRODUCT_ACTIVE_FLG</th>\n",
       "    </tr>\n",
       "  </thead>\n",
       "  <tbody>\n",
       "    <tr>\n",
       "      <th>0</th>\n",
       "      <td>2024-09-09</td>\n",
       "      <td>2224631</td>\n",
       "      <td>80014026</td>\n",
       "      <td>10.0</td>\n",
       "      <td>1</td>\n",
       "      <td>2401997</td>\n",
       "      <td>102401997</td>\n",
       "      <td>F</td>\n",
       "      <td>OFF PREMISE</td>\n",
       "      <td>B</td>\n",
       "      <td>B</td>\n",
       "      <td>10002</td>\n",
       "      <td>MS</td>\n",
       "      <td>116</td>\n",
       "      <td>BEER</td>\n",
       "      <td>80014026</td>\n",
       "      <td>N</td>\n",
       "      <td>Y</td>\n",
       "    </tr>\n",
       "    <tr>\n",
       "      <th>1</th>\n",
       "      <td>2023-12-11</td>\n",
       "      <td>2224631</td>\n",
       "      <td>80013447</td>\n",
       "      <td>18.0</td>\n",
       "      <td>1</td>\n",
       "      <td>2401997</td>\n",
       "      <td>102401997</td>\n",
       "      <td>F</td>\n",
       "      <td>OFF PREMISE</td>\n",
       "      <td>B</td>\n",
       "      <td>B</td>\n",
       "      <td>10002</td>\n",
       "      <td>MS</td>\n",
       "      <td>116</td>\n",
       "      <td>BEER</td>\n",
       "      <td>80013447</td>\n",
       "      <td>N</td>\n",
       "      <td>Y</td>\n",
       "    </tr>\n",
       "    <tr>\n",
       "      <th>2</th>\n",
       "      <td>2024-07-15</td>\n",
       "      <td>2225543</td>\n",
       "      <td>80013984</td>\n",
       "      <td>10.0</td>\n",
       "      <td>1</td>\n",
       "      <td>2407221</td>\n",
       "      <td>102407221</td>\n",
       "      <td>F</td>\n",
       "      <td>OFF PREMISE</td>\n",
       "      <td>B</td>\n",
       "      <td>B</td>\n",
       "      <td>10002</td>\n",
       "      <td>MS</td>\n",
       "      <td>116</td>\n",
       "      <td>BEER</td>\n",
       "      <td>80013984</td>\n",
       "      <td>N</td>\n",
       "      <td>Y</td>\n",
       "    </tr>\n",
       "    <tr>\n",
       "      <th>3</th>\n",
       "      <td>2025-04-28</td>\n",
       "      <td>2225543</td>\n",
       "      <td>80013984</td>\n",
       "      <td>10.0</td>\n",
       "      <td>1</td>\n",
       "      <td>2407221</td>\n",
       "      <td>102407221</td>\n",
       "      <td>F</td>\n",
       "      <td>OFF PREMISE</td>\n",
       "      <td>B</td>\n",
       "      <td>B</td>\n",
       "      <td>10002</td>\n",
       "      <td>MS</td>\n",
       "      <td>116</td>\n",
       "      <td>BEER</td>\n",
       "      <td>80013984</td>\n",
       "      <td>N</td>\n",
       "      <td>Y</td>\n",
       "    </tr>\n",
       "    <tr>\n",
       "      <th>4</th>\n",
       "      <td>2025-01-27</td>\n",
       "      <td>2225543</td>\n",
       "      <td>80013984</td>\n",
       "      <td>10.0</td>\n",
       "      <td>1</td>\n",
       "      <td>2407221</td>\n",
       "      <td>102407221</td>\n",
       "      <td>F</td>\n",
       "      <td>OFF PREMISE</td>\n",
       "      <td>B</td>\n",
       "      <td>B</td>\n",
       "      <td>10002</td>\n",
       "      <td>MS</td>\n",
       "      <td>116</td>\n",
       "      <td>BEER</td>\n",
       "      <td>80013984</td>\n",
       "      <td>N</td>\n",
       "      <td>Y</td>\n",
       "    </tr>\n",
       "  </tbody>\n",
       "</table>\n",
       "</div>"
      ],
      "text/plain": [
       "  DATE_WK_DT  DIST_CD PRODUCT_CD  DEPL_EQV_QTY  DEPL_PODS STORE_SRC_CD  \\\n",
       "0 2024-09-09  2224631   80014026          10.0          1      2401997   \n",
       "1 2023-12-11  2224631   80013447          18.0          1      2401997   \n",
       "2 2024-07-15  2225543   80013984          10.0          1      2407221   \n",
       "3 2025-04-28  2225543   80013984          10.0          1      2407221   \n",
       "4 2025-01-27  2225543   80013984          10.0          1      2407221   \n",
       "\n",
       "    STORE_CD PREMISE_TYPE_CD PREMISE_TYPE_DSC DIV_CD SEG_CD BEV_SEG_CD  \\\n",
       "0  102401997               F      OFF PREMISE      B      B      10002   \n",
       "1  102401997               F      OFF PREMISE      B      B      10002   \n",
       "2  102407221               F      OFF PREMISE      B      B      10002   \n",
       "3  102407221               F      OFF PREMISE      B      B      10002   \n",
       "4  102407221               F      OFF PREMISE      B      B      10002   \n",
       "\n",
       "  PRODUCT_TYPE_CD CATEGORY_CD CATEGORY_DSC MASTER_SKU_CD DISCONTINUED_SKU_FLG  \\\n",
       "0              MS         116         BEER      80014026                    N   \n",
       "1              MS         116         BEER      80013447                    N   \n",
       "2              MS         116         BEER      80013984                    N   \n",
       "3              MS         116         BEER      80013984                    N   \n",
       "4              MS         116         BEER      80013984                    N   \n",
       "\n",
       "  PRODUCT_ACTIVE_FLG  \n",
       "0                  Y  \n",
       "1                  Y  \n",
       "2                  Y  \n",
       "3                  Y  \n",
       "4                  Y  "
      ]
     },
     "execution_count": 5,
     "metadata": {},
     "output_type": "execute_result"
    }
   ],
   "source": [
    "df.head()"
   ]
  },
  {
   "cell_type": "code",
   "execution_count": null,
   "id": "a9059255",
   "metadata": {},
   "outputs": [],
   "source": []
  }
 ],
 "metadata": {
  "kernelspec": {
   "display_name": "Python 3",
   "language": "python",
   "name": "python3"
  },
  "language_info": {
   "codemirror_mode": {
    "name": "ipython",
    "version": 3
   },
   "file_extension": ".py",
   "mimetype": "text/x-python",
   "name": "python",
   "nbconvert_exporter": "python",
   "pygments_lexer": "ipython3",
   "version": "3.11.9"
  }
 },
 "nbformat": 4,
 "nbformat_minor": 5
}
