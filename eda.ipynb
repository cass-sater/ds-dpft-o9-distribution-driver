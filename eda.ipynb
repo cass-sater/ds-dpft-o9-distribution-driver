{
 "cells": [
  {
   "cell_type": "code",
   "execution_count": null,
   "id": "283a7939",
   "metadata": {},
   "outputs": [
    {
     "ename": "ModuleNotFoundError",
     "evalue": "No module named 'pyarrow'",
     "output_type": "error",
     "traceback": [
      "\u001b[31m---------------------------------------------------------------------------\u001b[39m",
      "\u001b[31mModuleNotFoundError\u001b[39m                       Traceback (most recent call last)",
      "\u001b[36mCell\u001b[39m\u001b[36m \u001b[39m\u001b[32mIn[54]\u001b[39m\u001b[32m, line 4\u001b[39m\n\u001b[32m      2\u001b[39m \u001b[38;5;28;01mimport\u001b[39;00m\u001b[38;5;250m \u001b[39m\u001b[34;01mpandas\u001b[39;00m\n\u001b[32m      3\u001b[39m \u001b[38;5;28;01mimport\u001b[39;00m\u001b[38;5;250m \u001b[39m\u001b[34;01mnumpy\u001b[39;00m\u001b[38;5;250m \u001b[39m\u001b[38;5;28;01mas\u001b[39;00m\u001b[38;5;250m \u001b[39m\u001b[34;01mnp\u001b[39;00m\n\u001b[32m----> \u001b[39m\u001b[32m4\u001b[39m \u001b[38;5;28;01mimport\u001b[39;00m\u001b[38;5;250m \u001b[39m\u001b[34;01mpyarrow\u001b[39;00m\n\u001b[32m      5\u001b[39m \u001b[38;5;28;01mimport\u001b[39;00m\u001b[38;5;250m \u001b[39m\u001b[34;01mplotly\u001b[39;00m\u001b[34;01m.\u001b[39;00m\u001b[34;01mexpress\u001b[39;00m\u001b[38;5;250m \u001b[39m\u001b[38;5;28;01mas\u001b[39;00m\u001b[38;5;250m \u001b[39m\u001b[34;01mpx\u001b[39;00m\n\u001b[32m      6\u001b[39m \u001b[38;5;28;01mimport\u001b[39;00m\u001b[38;5;250m \u001b[39m\u001b[34;01mplotly\u001b[39;00m\u001b[34;01m.\u001b[39;00m\u001b[34;01mgraph_objects\u001b[39;00m\u001b[38;5;250m \u001b[39m\u001b[38;5;28;01mas\u001b[39;00m\u001b[38;5;250m \u001b[39m\u001b[34;01mgo\u001b[39;00m\n",
      "\u001b[31mModuleNotFoundError\u001b[39m: No module named 'pyarrow'"
     ]
    }
   ],
   "source": [
    "import snowflake.connector\n",
    "import pandas\n",
    "import numpy as np\n",
    "import \n",
    "import plotly.express as px\n",
    "import plotly.graph_objects as go\n",
    "from plotly.subplots import make_subplots\n",
    "\n",
    "from datetime import date, datetime\n",
    "\n",
    "con = snowflake.connector.connect(\n",
    "    user         ='cassidy.sater@cbrands.com',\n",
    "    account      ='cbrands.us-east-1',\n",
    "    role         ='DS_TEST_SCIENTIST_ROLE',\n",
    "    authenticator='externalbrowser',\n",
    "    warehouse    ='DS_TEST_DEFAULT_WH',\n",
    "    database     ='DS_PROD_DB',\n",
    "    schema       ='DP',\n",
    ")\n",
    "cur = con.cursor()\n",
    "\n",
    "# Query data\n",
    "def fetch_pandas(sql):\n",
    "    cur.execute(sql)\n",
    "    return cur.fetch_pandas_all()\n",
    "\n",
    "depletions = \\\n",
    "\"\"\"SELECT DATE_WK_DT, DIST_CD, PRODUCT_CD, MODEL_NO\n",
    "FROM DS_PROD_DB.DP.DP_DEPLETION_BEER_WK_VW01\n",
    "WHERE DATE_WK_DT >= DATEADD(year, -3, CURRENT_DATE)\n",
    "GROUP BY DATE_WK_DT, DIST_CD, PRODUCT_CD, MODEL_NO;\"\"\"\n",
    "\n",
    "df = fetch_pandas(depletions)  \n",
    "df.columns = df.columns.str.lower()\n",
    "\n",
    "df.head()"
   ]
  },
  {
   "cell_type": "code",
   "execution_count": 43,
   "id": "1de8afea",
   "metadata": {},
   "outputs": [
    {
     "name": "stderr",
     "output_type": "stream",
     "text": [
      "Warning: Dependency 'keyring' is not installed, cannot cache id token. You might experience multiple authentication pop ups while using ExternalBrowser/OAuth/MFA Authenticator. To avoid this please install keyring module using the following command:\n",
      " pip install snowflake-connector-python[secure-local-storage]\n"
     ]
    },
    {
     "name": "stdout",
     "output_type": "stream",
     "text": [
      "Initiating login request with your identity provider. A browser window should have opened for you to complete the login. If you can't see it, check existing browser windows, or your OS settings. Press CTRL+C to abort and try again...\n",
      "Going to open: https://login.microsoftonline.com/897c5146-ab0e-40e5-92cd-154908142efc/saml2?SAMLRequest=lZJRb9owFIX%2FSuQ9J3HSZIAFVAHESkVbBOmk9c0kF%2FBI7MzXIeXfzwkgdQ%2BttLfIOcff8T13eP9eFs4JNAolRyTwKHFAZioXcj8ir%2Bnc7RMHDZc5L5SEETkDkvvxEHlZVCypzUGu4U8NaBx7kUTW%2FhiRWkumOApkkpeAzGRskzwtWehRxhFBG4sjV0uOwrIOxlTM95um8Zo7T%2Bm9H1JKfTrwraqVfCMfENXXjEorozJV3Czv9k2fIAKfRi3CKixhdTVOhLyM4CvK9iJC9pCmK3f1skmJk9xeN1US6xL0BvRJZPC6Xl4CoE0wnayT59nGq9EFjsYNPJSq2RX8CJkqq9rYWz375e8g9wu1F3ZWi9mIVEeRr39MNy%2BppPLh8fyr9zjnW0jeUhmF2Nytg8Pv5f4kNEyOZUMz4vy8NRu2zS4Qa1jItk9jj2gYuzR2wzClfRb0WBx7Axq%2FEWdm%2BxSSm855C93l8EqRaYVqZ5QshIQuZX%2FQy%2BIg%2Bu7yLQU3ohC7gzDL3SCOBrQfRCHsMr9tLSSXzWFdED3%2B33kM%2FY%2Fu6xI%2B214Ws5UqRHZ25kqX3HxeW%2BAF3YnI3V0nZVByUSR5rgHR1lcUqplq4MbuutE1EH98of677eO%2F&RelayState=ver%3A1-hint%3A24148586807920702-ETMsDgAAAZb3EgbBABRBRVMvQ0JDL1BLQ1M1UGFkZGluZwEAABAAEAOyWnDh0WVnh%2F6v%2BzrFapwAAACQLcJoyJHFBfX5PqwA6ANMxj6JQdJG%2FAAAJRwjsBeKKgdBFVC6E1jLPr6UJipcPw3%2BiDayj42nfeZ86wCsRXDmb5UEuxjULUbd2ENg2O42UxX4cMT5hBH0cbNqX%2F3NxWOKGFBch%2FXfAbwmx6nymG3b9sMU5aviZNVSIuwpWSEYcjujN%2Fok1FMVJ3d69k1Ayt%2BvABQt2TcIGP6%2F3it4X%2FTOHC5GvcFfxQ%3D%3D to authenticate...\n"
     ]
    },
    {
     "name": "stderr",
     "output_type": "stream",
     "text": [
      "Warning: Dependency 'keyring' is not installed, cannot cache id token. You might experience multiple authentication pop ups while using ExternalBrowser/OAuth/MFA Authenticator. To avoid this please install keyring module using the following command:\n",
      " pip install snowflake-connector-python[secure-local-storage]\n"
     ]
    }
   ],
   "source": [
    "con = snowflake.connector.connect(\n",
    "    user         ='cassidy.sater@cbrands.com',\n",
    "    account      ='cbrands.us-east-1',\n",
    "    role         ='DS_TEST_SCIENTIST_ROLE',\n",
    "    authenticator='externalbrowser',\n",
    "    warehouse    ='DS_TEST_DEFAULT_WH',\n",
    "    database     ='DS_PROD_DB',\n",
    "    schema       ='DP',\n",
    ")\n",
    "cur = con.cursor()"
   ]
  },
  {
   "cell_type": "code",
   "execution_count": 44,
   "id": "b2ebe7d7",
   "metadata": {},
   "outputs": [
    {
     "data": {
      "text/plain": [
       "datetime.date(2025, 5, 22)"
      ]
     },
     "execution_count": 44,
     "metadata": {},
     "output_type": "execute_result"
    }
   ],
   "source": [
    "date.today()"
   ]
  },
  {
   "cell_type": "code",
   "execution_count": 45,
   "id": "3a0dc78d",
   "metadata": {},
   "outputs": [],
   "source": [
    "# Query data\n",
    "def fetch_pandas(sql):\n",
    "    cur.execute(sql)\n",
    "    return cur.fetch_pandas_all()"
   ]
  },
  {
   "cell_type": "code",
   "execution_count": 55,
   "id": "0e2691ec",
   "metadata": {},
   "outputs": [
    {
     "name": "stderr",
     "output_type": "stream",
     "text": [
      "Warning: Dependency 'keyring' is not installed, cannot cache id token. You might experience multiple authentication pop ups while using ExternalBrowser/OAuth/MFA Authenticator. To avoid this please install keyring module using the following command:\n",
      " pip install snowflake-connector-python[secure-local-storage]\n"
     ]
    },
    {
     "name": "stdout",
     "output_type": "stream",
     "text": [
      "Initiating login request with your identity provider. A browser window should have opened for you to complete the login. If you can't see it, check existing browser windows, or your OS settings. Press CTRL+C to abort and try again...\n",
      "Going to open: https://login.microsoftonline.com/897c5146-ab0e-40e5-92cd-154908142efc/saml2?SAMLRequest=lZJRb5swFIX%2FCvKeAUNJR6wkFUlUNVvasYT0YW%2BOuaRWjE1tU9J%2FP0MSqXtopb0hc46%2F43vu5O5UC%2B8NtOFKTlEUYOSBZKrk8jBFu%2BLeT5FnLJUlFUrCFL2DQXeziaG1aEjW2he5gdcWjPXcRdKQ%2FscUtVoSRQ03RNIaDLGMbLPHNYkDTKgxoK3DoYulNNyxXqxtSBh2XRd0N4HShzDGGId4HDpVL%2FmGPiCarxmNVlYxJa6Wk3vTJ4goxEmPcApHyC%2FGOZfnEXxF2Z9FhjwURe7nv7YF8rLr6xZKmrYGvQX9xhnsNutzAOMSLOab7Gm5DVrjAzXWjwIjVVcJegSm6qa17tbAfYUVlKFQB%2B5mtVpOUXPk5dr8WEGaPoufySJX3es%2B%2Fa0fFuUpwXs5r7bHYndY5mub7QVjyHu%2BNhv3za6MaWEl%2Bz6tO8LxyMcjP44LnJL4lkRpcJMmf5C3dH1ySe3gvIYecgQ1Z1oZVVklBZcwpEzH39koSm59usfgJxhG%2FjhmpR%2BNkjFOoySGioV9azE6bw4ZgujZ%2F85jEn50X5bwyfWyWuZKcPbu3StdU%2Ft5bVEQDSe89KtBSqCmXGRlqcEYV58QqltooNbtutUtoHB2pv677bO%2F&RelayState=ver%3A1-hint%3A24148586807920702-ETMsDgAAAZb3GbGQABRBRVMvQ0JDL1BLQ1M1UGFkZGluZwEAABAAEOp%2B3GKfZh7J%2B0mZXnXgxaMAAACQ3sj9O1oYDHtnLJu9y3V9Kw0WiGDml269sadgiF%2Fyp3v9cakMwJ6ngzG8Kbtuy9eQ1y%2FZsBy5zHREfStBLU54Bc%2B3lNCR6S3lFfPhBwBq1lT5rFxlVrlAF18bnBsfTXk5%2Fzq27OBzA3Q3iPZGVk48DxXL6Tp1TzjVu0cQQp2z2AtwAJOKEi%2F6Snnz1R4G06OhABRjj%2FIuxFNUxGG2zZGwrhy91QZJqQ%3D%3D to authenticate...\n"
     ]
    },
    {
     "name": "stderr",
     "output_type": "stream",
     "text": [
      "Warning: Dependency 'keyring' is not installed, cannot cache id token. You might experience multiple authentication pop ups while using ExternalBrowser/OAuth/MFA Authenticator. To avoid this please install keyring module using the following command:\n",
      " pip install snowflake-connector-python[secure-local-storage]\n"
     ]
    },
    {
     "ename": "ProgrammingError",
     "evalue": "255002: Optional dependency: 'pandas' is not installed, please see the following link for install instructions: https://docs.snowflake.com/en/user-guide/python-connector-pandas.html#installation",
     "output_type": "error",
     "traceback": [
      "\u001b[31m---------------------------------------------------------------------------\u001b[39m",
      "\u001b[31mProgrammingError\u001b[39m                          Traceback (most recent call last)",
      "\u001b[36mCell\u001b[39m\u001b[36m \u001b[39m\u001b[32mIn[55]\u001b[39m\u001b[32m, line 32\u001b[39m\n\u001b[32m     24\u001b[39m     \u001b[38;5;28;01mreturn\u001b[39;00m cur.fetch_pandas_all()\n\u001b[32m     26\u001b[39m depletions = \\\n\u001b[32m     27\u001b[39m \u001b[33;03m\"\"\"SELECT DATE_WK_DT, DIST_CD, PRODUCT_CD, MODEL_NO\u001b[39;00m\n\u001b[32m     28\u001b[39m \u001b[33;03mFROM DS_PROD_DB.DP.DP_DEPLETION_BEER_WK_VW01\u001b[39;00m\n\u001b[32m     29\u001b[39m \u001b[33;03mWHERE DATE_WK_DT >= DATEADD(year, -3, CURRENT_DATE)\u001b[39;00m\n\u001b[32m     30\u001b[39m \u001b[33;03mGROUP BY DATE_WK_DT, DIST_CD, PRODUCT_CD, MODEL_NO;\"\"\"\u001b[39;00m\n\u001b[32m---> \u001b[39m\u001b[32m32\u001b[39m df = \u001b[43mfetch_pandas\u001b[49m\u001b[43m(\u001b[49m\u001b[43mdepletions\u001b[49m\u001b[43m)\u001b[49m  \n\u001b[32m     33\u001b[39m df.columns = df.columns.str.lower()\n\u001b[32m     35\u001b[39m \u001b[38;5;66;03m# Display the first few rows of the DataFrame\u001b[39;00m\n",
      "\u001b[36mCell\u001b[39m\u001b[36m \u001b[39m\u001b[32mIn[55]\u001b[39m\u001b[32m, line 24\u001b[39m, in \u001b[36mfetch_pandas\u001b[39m\u001b[34m(sql)\u001b[39m\n\u001b[32m     22\u001b[39m \u001b[38;5;28;01mdef\u001b[39;00m\u001b[38;5;250m \u001b[39m\u001b[34mfetch_pandas\u001b[39m(sql):\n\u001b[32m     23\u001b[39m     cur.execute(sql)\n\u001b[32m---> \u001b[39m\u001b[32m24\u001b[39m     \u001b[38;5;28;01mreturn\u001b[39;00m \u001b[43mcur\u001b[49m\u001b[43m.\u001b[49m\u001b[43mfetch_pandas_all\u001b[49m\u001b[43m(\u001b[49m\u001b[43m)\u001b[49m\n",
      "\u001b[36mFile \u001b[39m\u001b[32mc:\\Users\\CSATER\\AppData\\Local\\Programs\\Python\\Python311\\Lib\\site-packages\\snowflake\\connector\\cursor.py:1382\u001b[39m, in \u001b[36mSnowflakeCursor.fetch_pandas_all\u001b[39m\u001b[34m(self, **kwargs)\u001b[39m\n\u001b[32m   1370\u001b[39m \u001b[38;5;28;01mdef\u001b[39;00m\u001b[38;5;250m \u001b[39m\u001b[34mfetch_pandas_all\u001b[39m(\u001b[38;5;28mself\u001b[39m, **kwargs: Any) -> DataFrame:\n\u001b[32m   1371\u001b[39m \u001b[38;5;250m    \u001b[39m\u001b[33;03m\"\"\"\u001b[39;00m\n\u001b[32m   1372\u001b[39m \u001b[33;03m    Fetch Pandas dataframes in batches, where 'batch' refers to Snowflake Chunk.\u001b[39;00m\n\u001b[32m   1373\u001b[39m \n\u001b[32m   (...)\u001b[39m\u001b[32m   1380\u001b[39m \u001b[33;03m        See here for more information: https://github.com/apache/arrow/issues/4116\u001b[39;00m\n\u001b[32m   1381\u001b[39m \u001b[33;03m    \"\"\"\u001b[39;00m\n\u001b[32m-> \u001b[39m\u001b[32m1382\u001b[39m     \u001b[38;5;28;43mself\u001b[39;49m\u001b[43m.\u001b[49m\u001b[43mcheck_can_use_pandas\u001b[49m\u001b[43m(\u001b[49m\u001b[43m)\u001b[49m\n\u001b[32m   1383\u001b[39m     \u001b[38;5;28;01mif\u001b[39;00m \u001b[38;5;28mself\u001b[39m._prefetch_hook \u001b[38;5;129;01mis\u001b[39;00m \u001b[38;5;129;01mnot\u001b[39;00m \u001b[38;5;28;01mNone\u001b[39;00m:\n\u001b[32m   1384\u001b[39m         \u001b[38;5;28mself\u001b[39m._prefetch_hook()\n",
      "\u001b[36mFile \u001b[39m\u001b[32mc:\\Users\\CSATER\\AppData\\Local\\Programs\\Python\\Python311\\Lib\\site-packages\\snowflake\\connector\\cursor.py:1278\u001b[39m, in \u001b[36mSnowflakeCursor.check_can_use_pandas\u001b[39m\u001b[34m(self)\u001b[39m\n\u001b[32m   1272\u001b[39m msg = (\n\u001b[32m   1273\u001b[39m     \u001b[33m\"\u001b[39m\u001b[33mOptional dependency: \u001b[39m\u001b[33m'\u001b[39m\u001b[33mpandas\u001b[39m\u001b[33m'\u001b[39m\u001b[33m is not installed, please see the following link for install \u001b[39m\u001b[33m\"\u001b[39m\n\u001b[32m   1274\u001b[39m     \u001b[33m\"\u001b[39m\u001b[33minstructions: https://docs.snowflake.com/en/user-guide/python-connector-pandas.html#installation\u001b[39m\u001b[33m\"\u001b[39m\n\u001b[32m   1275\u001b[39m )\n\u001b[32m   1276\u001b[39m errno = ER_NO_PYARROW\n\u001b[32m-> \u001b[39m\u001b[32m1278\u001b[39m \u001b[43mError\u001b[49m\u001b[43m.\u001b[49m\u001b[43merrorhandler_wrapper\u001b[49m\u001b[43m(\u001b[49m\n\u001b[32m   1279\u001b[39m \u001b[43m    \u001b[49m\u001b[38;5;28;43mself\u001b[39;49m\u001b[43m.\u001b[49m\u001b[43mconnection\u001b[49m\u001b[43m,\u001b[49m\n\u001b[32m   1280\u001b[39m \u001b[43m    \u001b[49m\u001b[38;5;28;43mself\u001b[39;49m\u001b[43m,\u001b[49m\n\u001b[32m   1281\u001b[39m \u001b[43m    \u001b[49m\u001b[43mProgrammingError\u001b[49m\u001b[43m,\u001b[49m\n\u001b[32m   1282\u001b[39m \u001b[43m    \u001b[49m\u001b[43m{\u001b[49m\n\u001b[32m   1283\u001b[39m \u001b[43m        \u001b[49m\u001b[33;43m\"\u001b[39;49m\u001b[33;43mmsg\u001b[39;49m\u001b[33;43m\"\u001b[39;49m\u001b[43m:\u001b[49m\u001b[43m \u001b[49m\u001b[43mmsg\u001b[49m\u001b[43m,\u001b[49m\n\u001b[32m   1284\u001b[39m \u001b[43m        \u001b[49m\u001b[33;43m\"\u001b[39;49m\u001b[33;43merrno\u001b[39;49m\u001b[33;43m\"\u001b[39;49m\u001b[43m:\u001b[49m\u001b[43m \u001b[49m\u001b[43merrno\u001b[49m\u001b[43m,\u001b[49m\n\u001b[32m   1285\u001b[39m \u001b[43m    \u001b[49m\u001b[43m}\u001b[49m\u001b[43m,\u001b[49m\n\u001b[32m   1286\u001b[39m \u001b[43m\u001b[49m\u001b[43m)\u001b[49m\n",
      "\u001b[36mFile \u001b[39m\u001b[32mc:\\Users\\CSATER\\AppData\\Local\\Programs\\Python\\Python311\\Lib\\site-packages\\snowflake\\connector\\errors.py:279\u001b[39m, in \u001b[36mError.errorhandler_wrapper\u001b[39m\u001b[34m(connection, cursor, error_class, error_value)\u001b[39m\n\u001b[32m    256\u001b[39m \u001b[38;5;129m@staticmethod\u001b[39m\n\u001b[32m    257\u001b[39m \u001b[38;5;28;01mdef\u001b[39;00m\u001b[38;5;250m \u001b[39m\u001b[34merrorhandler_wrapper\u001b[39m(\n\u001b[32m    258\u001b[39m     connection: SnowflakeConnection | \u001b[38;5;28;01mNone\u001b[39;00m,\n\u001b[32m   (...)\u001b[39m\u001b[32m    261\u001b[39m     error_value: \u001b[38;5;28mdict\u001b[39m[\u001b[38;5;28mstr\u001b[39m, Any],\n\u001b[32m    262\u001b[39m ) -> \u001b[38;5;28;01mNone\u001b[39;00m:\n\u001b[32m    263\u001b[39m \u001b[38;5;250m    \u001b[39m\u001b[33;03m\"\"\"Error handler wrapper that calls the errorhandler method.\u001b[39;00m\n\u001b[32m    264\u001b[39m \n\u001b[32m    265\u001b[39m \u001b[33;03m    Args:\u001b[39;00m\n\u001b[32m   (...)\u001b[39m\u001b[32m    276\u001b[39m \u001b[33;03m        exception to the first handler in that order.\u001b[39;00m\n\u001b[32m    277\u001b[39m \u001b[33;03m    \"\"\"\u001b[39;00m\n\u001b[32m--> \u001b[39m\u001b[32m279\u001b[39m     handed_over = \u001b[43mError\u001b[49m\u001b[43m.\u001b[49m\u001b[43mhand_to_other_handler\u001b[49m\u001b[43m(\u001b[49m\n\u001b[32m    280\u001b[39m \u001b[43m        \u001b[49m\u001b[43mconnection\u001b[49m\u001b[43m,\u001b[49m\n\u001b[32m    281\u001b[39m \u001b[43m        \u001b[49m\u001b[43mcursor\u001b[49m\u001b[43m,\u001b[49m\n\u001b[32m    282\u001b[39m \u001b[43m        \u001b[49m\u001b[43merror_class\u001b[49m\u001b[43m,\u001b[49m\n\u001b[32m    283\u001b[39m \u001b[43m        \u001b[49m\u001b[43merror_value\u001b[49m\u001b[43m,\u001b[49m\n\u001b[32m    284\u001b[39m \u001b[43m    \u001b[49m\u001b[43m)\u001b[49m\n\u001b[32m    285\u001b[39m     \u001b[38;5;28;01mif\u001b[39;00m \u001b[38;5;129;01mnot\u001b[39;00m handed_over:\n\u001b[32m    286\u001b[39m         \u001b[38;5;28;01mraise\u001b[39;00m Error.errorhandler_make_exception(\n\u001b[32m    287\u001b[39m             error_class,\n\u001b[32m    288\u001b[39m             error_value,\n\u001b[32m    289\u001b[39m         )\n",
      "\u001b[36mFile \u001b[39m\u001b[32mc:\\Users\\CSATER\\AppData\\Local\\Programs\\Python\\Python311\\Lib\\site-packages\\snowflake\\connector\\errors.py:334\u001b[39m, in \u001b[36mError.hand_to_other_handler\u001b[39m\u001b[34m(connection, cursor, error_class, error_value)\u001b[39m\n\u001b[32m    332\u001b[39m \u001b[38;5;28;01mif\u001b[39;00m cursor \u001b[38;5;129;01mis\u001b[39;00m \u001b[38;5;129;01mnot\u001b[39;00m \u001b[38;5;28;01mNone\u001b[39;00m:\n\u001b[32m    333\u001b[39m     cursor.messages.append((error_class, error_value))\n\u001b[32m--> \u001b[39m\u001b[32m334\u001b[39m     \u001b[43mcursor\u001b[49m\u001b[43m.\u001b[49m\u001b[43merrorhandler\u001b[49m\u001b[43m(\u001b[49m\u001b[43mconnection\u001b[49m\u001b[43m,\u001b[49m\u001b[43m \u001b[49m\u001b[43mcursor\u001b[49m\u001b[43m,\u001b[49m\u001b[43m \u001b[49m\u001b[43merror_class\u001b[49m\u001b[43m,\u001b[49m\u001b[43m \u001b[49m\u001b[43merror_value\u001b[49m\u001b[43m)\u001b[49m\n\u001b[32m    335\u001b[39m     \u001b[38;5;28;01mreturn\u001b[39;00m \u001b[38;5;28;01mTrue\u001b[39;00m\n\u001b[32m    336\u001b[39m \u001b[38;5;28;01melif\u001b[39;00m connection \u001b[38;5;129;01mis\u001b[39;00m \u001b[38;5;129;01mnot\u001b[39;00m \u001b[38;5;28;01mNone\u001b[39;00m:\n",
      "\u001b[36mFile \u001b[39m\u001b[32mc:\\Users\\CSATER\\AppData\\Local\\Programs\\Python\\Python311\\Lib\\site-packages\\snowflake\\connector\\errors.py:210\u001b[39m, in \u001b[36mError.default_errorhandler\u001b[39m\u001b[34m(connection, cursor, error_class, error_value)\u001b[39m\n\u001b[32m    208\u001b[39m errno = error_value.get(\u001b[33m\"\u001b[39m\u001b[33merrno\u001b[39m\u001b[33m\"\u001b[39m)\n\u001b[32m    209\u001b[39m done_format_msg = error_value.get(\u001b[33m\"\u001b[39m\u001b[33mdone_format_msg\u001b[39m\u001b[33m\"\u001b[39m)\n\u001b[32m--> \u001b[39m\u001b[32m210\u001b[39m \u001b[38;5;28;01mraise\u001b[39;00m error_class(\n\u001b[32m    211\u001b[39m     msg=error_value.get(\u001b[33m\"\u001b[39m\u001b[33mmsg\u001b[39m\u001b[33m\"\u001b[39m),\n\u001b[32m    212\u001b[39m     errno=\u001b[38;5;28;01mNone\u001b[39;00m \u001b[38;5;28;01mif\u001b[39;00m errno \u001b[38;5;129;01mis\u001b[39;00m \u001b[38;5;28;01mNone\u001b[39;00m \u001b[38;5;28;01melse\u001b[39;00m \u001b[38;5;28mint\u001b[39m(errno),\n\u001b[32m    213\u001b[39m     sqlstate=error_value.get(\u001b[33m\"\u001b[39m\u001b[33msqlstate\u001b[39m\u001b[33m\"\u001b[39m),\n\u001b[32m    214\u001b[39m     sfqid=error_value.get(\u001b[33m\"\u001b[39m\u001b[33msfqid\u001b[39m\u001b[33m\"\u001b[39m),\n\u001b[32m    215\u001b[39m     query=error_value.get(\u001b[33m\"\u001b[39m\u001b[33mquery\u001b[39m\u001b[33m\"\u001b[39m),\n\u001b[32m    216\u001b[39m     done_format_msg=(\n\u001b[32m    217\u001b[39m         \u001b[38;5;28;01mNone\u001b[39;00m \u001b[38;5;28;01mif\u001b[39;00m done_format_msg \u001b[38;5;129;01mis\u001b[39;00m \u001b[38;5;28;01mNone\u001b[39;00m \u001b[38;5;28;01melse\u001b[39;00m \u001b[38;5;28mbool\u001b[39m(done_format_msg)\n\u001b[32m    218\u001b[39m     ),\n\u001b[32m    219\u001b[39m     connection=connection,\n\u001b[32m    220\u001b[39m     cursor=cursor,\n\u001b[32m    221\u001b[39m )\n",
      "\u001b[31mProgrammingError\u001b[39m: 255002: Optional dependency: 'pandas' is not installed, please see the following link for install instructions: https://docs.snowflake.com/en/user-guide/python-connector-pandas.html#installation"
     ]
    }
   ],
   "source": [
    "import snowflake.connector\n",
    "import pandas as pd\n",
    "import numpy as np\n",
    "import plotly.express as px\n",
    "import plotly.graph_objects as go\n",
    "from plotly.subplots import make_subplots\n",
    "from datetime import date, datetime\n",
    "\n",
    "# Establish connection to Snowflake\n",
    "con = snowflake.connector.connect(\n",
    "    user         ='cassidy.sater@cbrands.com',\n",
    "    account      ='cbrands.us-east-1',\n",
    "    role         ='DS_TEST_SCIENTIST_ROLE',\n",
    "    authenticator='externalbrowser',\n",
    "    warehouse    ='DS_TEST_DEFAULT_WH',\n",
    "    database     ='DS_PROD_DB',\n",
    "    schema       ='DP',\n",
    ")\n",
    "cur = con.cursor()\n",
    "\n",
    "# Query data\n",
    "def fetch_pandas(sql):\n",
    "    cur.execute(sql)\n",
    "    return cur.fetch_pandas_all()\n",
    "\n",
    "depletions = \\\n",
    "\"\"\"SELECT DATE_WK_DT, DIST_CD, PRODUCT_CD, MODEL_NO\n",
    "FROM DS_PROD_DB.DP.DP_DEPLETION_BEER_WK_VW01\n",
    "WHERE DATE_WK_DT >= DATEADD(year, -3, CURRENT_DATE)\n",
    "GROUP BY DATE_WK_DT, DIST_CD, PRODUCT_CD, MODEL_NO;\"\"\"\n",
    "\n",
    "df = fetch_pandas(depletions)  \n",
    "df.columns = df.columns.str.lower()\n",
    "\n",
    "# Display the first few rows of the DataFrame\n",
    "print(df.head())\n",
    "\n",
    "df.head()"
   ]
  },
  {
   "cell_type": "code",
   "execution_count": null,
   "id": "2421e55b",
   "metadata": {},
   "outputs": [
    {
     "ename": "ProgrammingError",
     "evalue": "255002: Optional dependency: 'pandas' is not installed, please see the following link for install instructions: https://docs.snowflake.com/en/user-guide/python-connector-pandas.html#installation",
     "output_type": "error",
     "traceback": [
      "\u001b[31m---------------------------------------------------------------------------\u001b[39m",
      "\u001b[31mProgrammingError\u001b[39m                          Traceback (most recent call last)",
      "\u001b[36mCell\u001b[39m\u001b[36m \u001b[39m\u001b[32mIn[25]\u001b[39m\u001b[32m, line 37\u001b[39m\n\u001b[32m      1\u001b[39m query = \u001b[33m\"\"\"\u001b[39m\n\u001b[32m      2\u001b[39m \u001b[33mSELECT \u001b[39m\n\u001b[32m      3\u001b[39m \u001b[33m    d.PRODUCT_CD AS Master_SKU,\u001b[39m\n\u001b[32m   (...)\u001b[39m\u001b[32m     34\u001b[39m \u001b[33m    d.DATE_WK_DT BETWEEN \u001b[39m\u001b[33m'\u001b[39m\u001b[33m2021-01-01\u001b[39m\u001b[33m'\u001b[39m\u001b[33m AND \u001b[39m\u001b[33m'\u001b[39m\u001b[33m2024-12-31\u001b[39m\u001b[33m'\u001b[39m\u001b[33m;\u001b[39m\n\u001b[32m     35\u001b[39m \u001b[33m\"\"\"\u001b[39m\n\u001b[32m---> \u001b[39m\u001b[32m37\u001b[39m df = \u001b[43mfetch_pandas\u001b[49m\u001b[43m(\u001b[49m\u001b[43mquery\u001b[49m\u001b[43m)\u001b[49m  \u001b[38;5;66;03m# Use 'query' instead of 'sql_str'\u001b[39;00m\n\u001b[32m     38\u001b[39m df.columns = df.columns.str.lower()\n\u001b[32m     40\u001b[39m df.head()\n",
      "\u001b[36mCell\u001b[39m\u001b[36m \u001b[39m\u001b[32mIn[17]\u001b[39m\u001b[32m, line 4\u001b[39m, in \u001b[36mfetch_pandas\u001b[39m\u001b[34m(sql)\u001b[39m\n\u001b[32m      2\u001b[39m \u001b[38;5;28;01mdef\u001b[39;00m\u001b[38;5;250m \u001b[39m\u001b[34mfetch_pandas\u001b[39m(sql):\n\u001b[32m      3\u001b[39m     cur.execute(sql)\n\u001b[32m----> \u001b[39m\u001b[32m4\u001b[39m     \u001b[38;5;28;01mreturn\u001b[39;00m \u001b[43mcur\u001b[49m\u001b[43m.\u001b[49m\u001b[43mfetch_pandas_all\u001b[49m\u001b[43m(\u001b[49m\u001b[43m)\u001b[49m\n",
      "\u001b[36mFile \u001b[39m\u001b[32mc:\\Users\\CSATER\\AppData\\Local\\Programs\\Python\\Python311\\Lib\\site-packages\\snowflake\\connector\\cursor.py:1382\u001b[39m, in \u001b[36mSnowflakeCursor.fetch_pandas_all\u001b[39m\u001b[34m(self, **kwargs)\u001b[39m\n\u001b[32m   1370\u001b[39m \u001b[38;5;28;01mdef\u001b[39;00m\u001b[38;5;250m \u001b[39m\u001b[34mfetch_pandas_all\u001b[39m(\u001b[38;5;28mself\u001b[39m, **kwargs: Any) -> DataFrame:\n\u001b[32m   1371\u001b[39m \u001b[38;5;250m    \u001b[39m\u001b[33;03m\"\"\"\u001b[39;00m\n\u001b[32m   1372\u001b[39m \u001b[33;03m    Fetch Pandas dataframes in batches, where 'batch' refers to Snowflake Chunk.\u001b[39;00m\n\u001b[32m   1373\u001b[39m \n\u001b[32m   (...)\u001b[39m\u001b[32m   1380\u001b[39m \u001b[33;03m        See here for more information: https://github.com/apache/arrow/issues/4116\u001b[39;00m\n\u001b[32m   1381\u001b[39m \u001b[33;03m    \"\"\"\u001b[39;00m\n\u001b[32m-> \u001b[39m\u001b[32m1382\u001b[39m     \u001b[38;5;28;43mself\u001b[39;49m\u001b[43m.\u001b[49m\u001b[43mcheck_can_use_pandas\u001b[49m\u001b[43m(\u001b[49m\u001b[43m)\u001b[49m\n\u001b[32m   1383\u001b[39m     \u001b[38;5;28;01mif\u001b[39;00m \u001b[38;5;28mself\u001b[39m._prefetch_hook \u001b[38;5;129;01mis\u001b[39;00m \u001b[38;5;129;01mnot\u001b[39;00m \u001b[38;5;28;01mNone\u001b[39;00m:\n\u001b[32m   1384\u001b[39m         \u001b[38;5;28mself\u001b[39m._prefetch_hook()\n",
      "\u001b[36mFile \u001b[39m\u001b[32mc:\\Users\\CSATER\\AppData\\Local\\Programs\\Python\\Python311\\Lib\\site-packages\\snowflake\\connector\\cursor.py:1278\u001b[39m, in \u001b[36mSnowflakeCursor.check_can_use_pandas\u001b[39m\u001b[34m(self)\u001b[39m\n\u001b[32m   1272\u001b[39m msg = (\n\u001b[32m   1273\u001b[39m     \u001b[33m\"\u001b[39m\u001b[33mOptional dependency: \u001b[39m\u001b[33m'\u001b[39m\u001b[33mpandas\u001b[39m\u001b[33m'\u001b[39m\u001b[33m is not installed, please see the following link for install \u001b[39m\u001b[33m\"\u001b[39m\n\u001b[32m   1274\u001b[39m     \u001b[33m\"\u001b[39m\u001b[33minstructions: https://docs.snowflake.com/en/user-guide/python-connector-pandas.html#installation\u001b[39m\u001b[33m\"\u001b[39m\n\u001b[32m   1275\u001b[39m )\n\u001b[32m   1276\u001b[39m errno = ER_NO_PYARROW\n\u001b[32m-> \u001b[39m\u001b[32m1278\u001b[39m \u001b[43mError\u001b[49m\u001b[43m.\u001b[49m\u001b[43merrorhandler_wrapper\u001b[49m\u001b[43m(\u001b[49m\n\u001b[32m   1279\u001b[39m \u001b[43m    \u001b[49m\u001b[38;5;28;43mself\u001b[39;49m\u001b[43m.\u001b[49m\u001b[43mconnection\u001b[49m\u001b[43m,\u001b[49m\n\u001b[32m   1280\u001b[39m \u001b[43m    \u001b[49m\u001b[38;5;28;43mself\u001b[39;49m\u001b[43m,\u001b[49m\n\u001b[32m   1281\u001b[39m \u001b[43m    \u001b[49m\u001b[43mProgrammingError\u001b[49m\u001b[43m,\u001b[49m\n\u001b[32m   1282\u001b[39m \u001b[43m    \u001b[49m\u001b[43m{\u001b[49m\n\u001b[32m   1283\u001b[39m \u001b[43m        \u001b[49m\u001b[33;43m\"\u001b[39;49m\u001b[33;43mmsg\u001b[39;49m\u001b[33;43m\"\u001b[39;49m\u001b[43m:\u001b[49m\u001b[43m \u001b[49m\u001b[43mmsg\u001b[49m\u001b[43m,\u001b[49m\n\u001b[32m   1284\u001b[39m \u001b[43m        \u001b[49m\u001b[33;43m\"\u001b[39;49m\u001b[33;43merrno\u001b[39;49m\u001b[33;43m\"\u001b[39;49m\u001b[43m:\u001b[49m\u001b[43m \u001b[49m\u001b[43merrno\u001b[49m\u001b[43m,\u001b[49m\n\u001b[32m   1285\u001b[39m \u001b[43m    \u001b[49m\u001b[43m}\u001b[49m\u001b[43m,\u001b[49m\n\u001b[32m   1286\u001b[39m \u001b[43m\u001b[49m\u001b[43m)\u001b[49m\n",
      "\u001b[36mFile \u001b[39m\u001b[32mc:\\Users\\CSATER\\AppData\\Local\\Programs\\Python\\Python311\\Lib\\site-packages\\snowflake\\connector\\errors.py:279\u001b[39m, in \u001b[36mError.errorhandler_wrapper\u001b[39m\u001b[34m(connection, cursor, error_class, error_value)\u001b[39m\n\u001b[32m    256\u001b[39m \u001b[38;5;129m@staticmethod\u001b[39m\n\u001b[32m    257\u001b[39m \u001b[38;5;28;01mdef\u001b[39;00m\u001b[38;5;250m \u001b[39m\u001b[34merrorhandler_wrapper\u001b[39m(\n\u001b[32m    258\u001b[39m     connection: SnowflakeConnection | \u001b[38;5;28;01mNone\u001b[39;00m,\n\u001b[32m   (...)\u001b[39m\u001b[32m    261\u001b[39m     error_value: \u001b[38;5;28mdict\u001b[39m[\u001b[38;5;28mstr\u001b[39m, Any],\n\u001b[32m    262\u001b[39m ) -> \u001b[38;5;28;01mNone\u001b[39;00m:\n\u001b[32m    263\u001b[39m \u001b[38;5;250m    \u001b[39m\u001b[33;03m\"\"\"Error handler wrapper that calls the errorhandler method.\u001b[39;00m\n\u001b[32m    264\u001b[39m \n\u001b[32m    265\u001b[39m \u001b[33;03m    Args:\u001b[39;00m\n\u001b[32m   (...)\u001b[39m\u001b[32m    276\u001b[39m \u001b[33;03m        exception to the first handler in that order.\u001b[39;00m\n\u001b[32m    277\u001b[39m \u001b[33;03m    \"\"\"\u001b[39;00m\n\u001b[32m--> \u001b[39m\u001b[32m279\u001b[39m     handed_over = \u001b[43mError\u001b[49m\u001b[43m.\u001b[49m\u001b[43mhand_to_other_handler\u001b[49m\u001b[43m(\u001b[49m\n\u001b[32m    280\u001b[39m \u001b[43m        \u001b[49m\u001b[43mconnection\u001b[49m\u001b[43m,\u001b[49m\n\u001b[32m    281\u001b[39m \u001b[43m        \u001b[49m\u001b[43mcursor\u001b[49m\u001b[43m,\u001b[49m\n\u001b[32m    282\u001b[39m \u001b[43m        \u001b[49m\u001b[43merror_class\u001b[49m\u001b[43m,\u001b[49m\n\u001b[32m    283\u001b[39m \u001b[43m        \u001b[49m\u001b[43merror_value\u001b[49m\u001b[43m,\u001b[49m\n\u001b[32m    284\u001b[39m \u001b[43m    \u001b[49m\u001b[43m)\u001b[49m\n\u001b[32m    285\u001b[39m     \u001b[38;5;28;01mif\u001b[39;00m \u001b[38;5;129;01mnot\u001b[39;00m handed_over:\n\u001b[32m    286\u001b[39m         \u001b[38;5;28;01mraise\u001b[39;00m Error.errorhandler_make_exception(\n\u001b[32m    287\u001b[39m             error_class,\n\u001b[32m    288\u001b[39m             error_value,\n\u001b[32m    289\u001b[39m         )\n",
      "\u001b[36mFile \u001b[39m\u001b[32mc:\\Users\\CSATER\\AppData\\Local\\Programs\\Python\\Python311\\Lib\\site-packages\\snowflake\\connector\\errors.py:334\u001b[39m, in \u001b[36mError.hand_to_other_handler\u001b[39m\u001b[34m(connection, cursor, error_class, error_value)\u001b[39m\n\u001b[32m    332\u001b[39m \u001b[38;5;28;01mif\u001b[39;00m cursor \u001b[38;5;129;01mis\u001b[39;00m \u001b[38;5;129;01mnot\u001b[39;00m \u001b[38;5;28;01mNone\u001b[39;00m:\n\u001b[32m    333\u001b[39m     cursor.messages.append((error_class, error_value))\n\u001b[32m--> \u001b[39m\u001b[32m334\u001b[39m     \u001b[43mcursor\u001b[49m\u001b[43m.\u001b[49m\u001b[43merrorhandler\u001b[49m\u001b[43m(\u001b[49m\u001b[43mconnection\u001b[49m\u001b[43m,\u001b[49m\u001b[43m \u001b[49m\u001b[43mcursor\u001b[49m\u001b[43m,\u001b[49m\u001b[43m \u001b[49m\u001b[43merror_class\u001b[49m\u001b[43m,\u001b[49m\u001b[43m \u001b[49m\u001b[43merror_value\u001b[49m\u001b[43m)\u001b[49m\n\u001b[32m    335\u001b[39m     \u001b[38;5;28;01mreturn\u001b[39;00m \u001b[38;5;28;01mTrue\u001b[39;00m\n\u001b[32m    336\u001b[39m \u001b[38;5;28;01melif\u001b[39;00m connection \u001b[38;5;129;01mis\u001b[39;00m \u001b[38;5;129;01mnot\u001b[39;00m \u001b[38;5;28;01mNone\u001b[39;00m:\n",
      "\u001b[36mFile \u001b[39m\u001b[32mc:\\Users\\CSATER\\AppData\\Local\\Programs\\Python\\Python311\\Lib\\site-packages\\snowflake\\connector\\errors.py:210\u001b[39m, in \u001b[36mError.default_errorhandler\u001b[39m\u001b[34m(connection, cursor, error_class, error_value)\u001b[39m\n\u001b[32m    208\u001b[39m errno = error_value.get(\u001b[33m\"\u001b[39m\u001b[33merrno\u001b[39m\u001b[33m\"\u001b[39m)\n\u001b[32m    209\u001b[39m done_format_msg = error_value.get(\u001b[33m\"\u001b[39m\u001b[33mdone_format_msg\u001b[39m\u001b[33m\"\u001b[39m)\n\u001b[32m--> \u001b[39m\u001b[32m210\u001b[39m \u001b[38;5;28;01mraise\u001b[39;00m error_class(\n\u001b[32m    211\u001b[39m     msg=error_value.get(\u001b[33m\"\u001b[39m\u001b[33mmsg\u001b[39m\u001b[33m\"\u001b[39m),\n\u001b[32m    212\u001b[39m     errno=\u001b[38;5;28;01mNone\u001b[39;00m \u001b[38;5;28;01mif\u001b[39;00m errno \u001b[38;5;129;01mis\u001b[39;00m \u001b[38;5;28;01mNone\u001b[39;00m \u001b[38;5;28;01melse\u001b[39;00m \u001b[38;5;28mint\u001b[39m(errno),\n\u001b[32m    213\u001b[39m     sqlstate=error_value.get(\u001b[33m\"\u001b[39m\u001b[33msqlstate\u001b[39m\u001b[33m\"\u001b[39m),\n\u001b[32m    214\u001b[39m     sfqid=error_value.get(\u001b[33m\"\u001b[39m\u001b[33msfqid\u001b[39m\u001b[33m\"\u001b[39m),\n\u001b[32m    215\u001b[39m     query=error_value.get(\u001b[33m\"\u001b[39m\u001b[33mquery\u001b[39m\u001b[33m\"\u001b[39m),\n\u001b[32m    216\u001b[39m     done_format_msg=(\n\u001b[32m    217\u001b[39m         \u001b[38;5;28;01mNone\u001b[39;00m \u001b[38;5;28;01mif\u001b[39;00m done_format_msg \u001b[38;5;129;01mis\u001b[39;00m \u001b[38;5;28;01mNone\u001b[39;00m \u001b[38;5;28;01melse\u001b[39;00m \u001b[38;5;28mbool\u001b[39m(done_format_msg)\n\u001b[32m    218\u001b[39m     ),\n\u001b[32m    219\u001b[39m     connection=connection,\n\u001b[32m    220\u001b[39m     cursor=cursor,\n\u001b[32m    221\u001b[39m )\n",
      "\u001b[31mProgrammingError\u001b[39m: 255002: Optional dependency: 'pandas' is not installed, please see the following link for install instructions: https://docs.snowflake.com/en/user-guide/python-connector-pandas.html#installation"
     ]
    }
   ],
   "source": [
    "depletions = \\\n",
    "\"\"\"\n",
    "SELECT \n",
    "    d.PRODUCT_CD AS Master_SKU,\n",
    "    p.PRODUCT_DSC AS Product_Description,\n",
    "    a.ACCOUNT_CD,          -- Account Code: The internal primary key of an account.\n",
    "    a.STORE_NAME,          -- Store Name: Banner name of the store/outlet.\n",
    "    a.CBBD_DIST_CD AS Distributor_Code, -- Beer Distributor Code: The primary beer distributor code for the account.\n",
    "    d.DATE_WK_DT,          -- Week\n",
    "    d.STORE_SRC_CD,        -- Store Source Code: Seven-digit number assigned to the physical location of the store/outlet.\n",
    "    d.DEPL_EQV_QTY,        -- Depletion Equivalent Quantity\n",
    "    d.DEPL_PODS            -- Assuming this is the column for Points of Distribution\n",
    "FROM \n",
    "    DP_DEPLETION_BEER_WK_VW01 d\n",
    "JOIN \n",
    "    DP_ACCOUNT_VW01 a ON d.STORE_SRC_CD = a.STORE_SRC_CD AND d.DIST_CD = a.CBBD_DIST_CD\n",
    "JOIN \n",
    "    DP_PRODUCT_VW01 p ON d.PRODUCT_CD = p.PRODUCT_CD\n",
    "WHERE d.DIV_CD = 'B' AND \n",
    "d.SEG_CD = 'B' AND \n",
    "p.DIV_CD = 'B' AND \n",
    "p.SEG_CD = 'B' AND \n",
    "    p.BEV_SEG_CD = '10002' AND \n",
    "    p.PRODUCT_TYPE_CD = 'MS' AND\n",
    "    p.PRODUCT_CD IN (\n",
    "        '80013984', -- modelo 24pk can\n",
    "        '80013447', -- corona 24pk bt\n",
    "        '80014026', -- modelo 24pk bt\n",
    "        '80013460'  -- corona 24pk can    \n",
    "        )\n",
    "    ) \n",
    "AND\n",
    "    p.DISCONTINUED_SKU_FLG <> 'Y' AND\n",
    "    d.DATE_WK_DT BETWEEN '2021-01-01' AND '2024-12-31';\"\"\"\n",
    "\n",
    "df = fetch_pandas(query)  # Use 'query' instead of 'sql_str'\n",
    "df.columns = df.columns.str.lower()\n",
    "\n",
    "df.head()"
   ]
  },
  {
   "cell_type": "code",
   "execution_count": null,
   "id": "6b109712",
   "metadata": {},
   "outputs": [
    {
     "name": "stdout",
     "output_type": "stream",
     "text": [
      "Requirement already satisfied: pandas in c:\\users\\csater\\appdata\\local\\programs\\python\\python38\\lib\\site-packages (1.5.2)\n",
      "Requirement already satisfied: python-dateutil>=2.8.1 in c:\\users\\csater\\appdata\\local\\programs\\python\\python38\\lib\\site-packages (from pandas) (2.9.0.post0)\n",
      "Requirement already satisfied: pytz>=2020.1 in c:\\users\\csater\\appdata\\local\\programs\\python\\python38\\lib\\site-packages (from pandas) (2024.2)\n",
      "Requirement already satisfied: numpy>=1.20.3 in c:\\users\\csater\\appdata\\local\\programs\\python\\python38\\lib\\site-packages (from pandas) (1.24.3)\n",
      "Requirement already satisfied: six>=1.5 in c:\\users\\csater\\appdata\\local\\programs\\python\\python38\\lib\\site-packages (from python-dateutil>=2.8.1->pandas) (1.16.0)\n"
     ]
    },
    {
     "name": "stderr",
     "output_type": "stream",
     "text": [
      "\n",
      "[notice] A new release of pip is available: 24.2 -> 25.0.1\n",
      "[notice] To update, run: c:\\users\\csater\\appdata\\local\\programs\\python\\python38\\python.exe -m pip install --upgrade pip\n"
     ]
    }
   ],
   "source": [
    "\n"
   ]
  },
  {
   "cell_type": "code",
   "execution_count": null,
   "id": "fdd6fce4",
   "metadata": {},
   "outputs": [],
   "source": []
  }
 ],
 "metadata": {
  "kernelspec": {
   "display_name": "Python 3",
   "language": "python",
   "name": "python3"
  },
  "language_info": {
   "codemirror_mode": {
    "name": "ipython",
    "version": 3
   },
   "file_extension": ".py",
   "mimetype": "text/x-python",
   "name": "python",
   "nbconvert_exporter": "python",
   "pygments_lexer": "ipython3",
   "version": "3.11.9"
  }
 },
 "nbformat": 4,
 "nbformat_minor": 5
}
